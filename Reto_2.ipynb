{
  "nbformat": 4,
  "nbformat_minor": 0,
  "metadata": {
    "colab": {
      "provenance": [],
      "mount_file_id": "1cQBzo5H1GFEo0ViW9Ksk4-qmbglVj5Io",
      "authorship_tag": "ABX9TyMWSpTyT76QCjGzVy9UApQO",
      "include_colab_link": true
    },
    "kernelspec": {
      "name": "python3",
      "display_name": "Python 3"
    },
    "language_info": {
      "name": "python"
    }
  },
  "cells": [
    {
      "cell_type": "markdown",
      "metadata": {
        "id": "view-in-github",
        "colab_type": "text"
      },
      "source": [
        "<a href=\"https://colab.research.google.com/github/miguelrendon107/Analitica/blob/main/Reto_2.ipynb\" target=\"_parent\"><img src=\"https://colab.research.google.com/assets/colab-badge.svg\" alt=\"Open In Colab\"/></a>"
      ]
    },
    {
      "cell_type": "markdown",
      "source": [
        "**RETO 2**\n",
        "\n",
        "- Descripcion de las variables:\n",
        "\n",
        "Si la persona tiene un título universitario(College), si la persona tiene deudas con tarjetas de crédito(CreditCard), el gasto familiar anual en alimentos (FoodSpend), los ingresos anuales (Income), y el gasto anual de los hogares en productos de viaje (TravelSpend)."
      ],
      "metadata": {
        "id": "1fhmC4wv3ZG6"
      }
    },
    {
      "cell_type": "markdown",
      "source": [
        "# ***CARGAR LIBRERIAS Y DATOS***"
      ],
      "metadata": {
        "id": "D9a7w_HJ3gA0"
      }
    },
    {
      "cell_type": "code",
      "execution_count": null,
      "metadata": {
        "colab": {
          "base_uri": "https://localhost:8080/"
        },
        "id": "V7tMWtIj3N7I",
        "outputId": "f94fe1aa-da0f-4a34-b55c-63a41f6e40ec"
      },
      "outputs": [
        {
          "output_type": "stream",
          "name": "stdout",
          "text": [
            "Drive already mounted at /content/drive; to attempt to forcibly remount, call drive.mount(\"/content/drive\", force_remount=True).\n",
            "La base de datos tiene: 500 registros\n"
          ]
        }
      ],
      "source": [
        "import pandas as pd\n",
        "import numpy as np\n",
        "import matplotlib.pyplot as plt #Graficador\n",
        "from sklearn.tree import DecisionTreeClassifier\n",
        "\n",
        "#Para no tener que llamar el archivo\n",
        "from google.colab import drive\n",
        "drive.mount('/content/drive')\n",
        "\n",
        "bd= '/content/drive/MyDrive/ANALITICA NEGOCIOS/2. BD1_Travel_Data_int.xlsx'\n",
        "BD= pd.read_excel(bd, sheet_name=0)\n",
        "BD=BD.dropna()\n",
        "bdx = np.array(BD[['College','FoodSpend', 'TravelSpend', 'Income']])\n",
        "bdy = np.array(BD['CreditCard']) #Lo que quiero que el modelo pronostique.\n",
        "\n",
        "print(\"La base de datos tiene:\",len(BD),'registros')"
      ]
    },
    {
      "cell_type": "markdown",
      "source": [
        "La base de datos tiene: 500 registros"
      ],
      "metadata": {
        "id": "21Yvb7qs6rXQ"
      }
    },
    {
      "cell_type": "markdown",
      "source": [
        "# ***CREACION DEL MODELO***\n",
        "\n",
        "\n",
        "\n",
        "\n"
      ],
      "metadata": {
        "id": "WZ70BPVa6sd0"
      }
    },
    {
      "cell_type": "code",
      "source": [
        "mar= DecisionTreeClassifier(criterion='gini', max_depth=4) #4 niveles o variables de entrada\n",
        "mar.fit(bdx,bdy)\n",
        "ydp= mar.predict(bdx)\n",
        "\n",
        "from sklearn.metrics import confusion_matrix\n",
        "cm= confusion_matrix(bdy, ydp)\n",
        "cm\n",
        "#   0  1\n",
        "# 0 VN FP\n",
        "# 1 FN VP\n",
        "#EVALUAMOS EL MODELO\n",
        "VN= cm[0,0]; FP= cm[0,1]; FN= cm[1,0]; VP= cm[1,1]\n",
        "\n",
        "print(\"Exactitud:\",  (VP+VN)/(VP+VN+FP+FN)) #Comportamiento general\n",
        "print(\"Sensibilidad:\", VP/(FN+VP)) #Como se comporto frente a los positivos\n",
        "print(\"Especificidad:\", VN/(VN+FP)) #Como se comporto frente a los negativos\n",
        "\n",
        "from sklearn.tree import export_graphviz\n",
        "from pydotplus import graph_from_dot_data\n",
        "\n",
        "vs=['College','FoodSpend', 'TravelSpend', 'Income']\n",
        "dot_graph= export_graphviz (mar, feature_names=vs)\n",
        "graph= graph_from_dot_data(dot_graph)\n",
        "graph.write_png(\"arbol.png\")"
      ],
      "metadata": {
        "colab": {
          "base_uri": "https://localhost:8080/"
        },
        "id": "-l5kTEIn6y4b",
        "outputId": "9c86dbd0-3ccb-4144-b432-a42374d5baa3"
      },
      "execution_count": null,
      "outputs": [
        {
          "output_type": "stream",
          "name": "stdout",
          "text": [
            "Exactitud: 0.898\n",
            "Sensibilidad: 0.732484076433121\n",
            "Especificidad: 0.9737609329446064\n"
          ]
        },
        {
          "output_type": "execute_result",
          "data": {
            "text/plain": [
              "True"
            ]
          },
          "metadata": {},
          "execution_count": 2
        }
      ]
    },
    {
      "cell_type": "markdown",
      "source": [
        "# ***NUEVOS CLIENTES***\n"
      ],
      "metadata": {
        "id": "3Ix6XxQQNYH0"
      }
    },
    {
      "cell_type": "code",
      "source": [
        "#Calculando las probabilidade de los dos clientes segun el arbol. OPCIÓN 1\n",
        "BD2= pd.read_excel(bd, sheet_name=1)\n",
        "BD2=BD2.dropna()\n",
        "bdx2 = np.array(BD2[['College', 'FoodSpend', 'TravelSpend','Income']])\n",
        "prob = mar.predict_proba(bdx2)\n",
        "print(prob)"
      ],
      "metadata": {
        "colab": {
          "base_uri": "https://localhost:8080/"
        },
        "id": "XGPbfi4rNoE8",
        "outputId": "b5db24ba-853c-4acd-93ad-9c7e949d0c96"
      },
      "execution_count": null,
      "outputs": [
        {
          "output_type": "stream",
          "name": "stdout",
          "text": [
            "[[1.         0.        ]\n",
            " [0.78676471 0.21323529]]\n"
          ]
        }
      ]
    },
    {
      "cell_type": "code",
      "source": [
        "#Calculando las probabilidades de los dos clientes segun el arbol. #OPCION 2\n",
        "#Primer Cliente\n",
        "#College 0; FoodSpend 2,892.9; Income 65,982; TravelSpend 2151.6\n",
        "\n",
        "#Información del nodo\n",
        "Samples = 108\n",
        "NV= 108\n",
        "V= 0\n",
        "\n",
        "print(\"La probabilidad de que el cliente 1 no use la Tarjeta de Credito es de:\",(NV/Samples)*100, \"%\")\n",
        "print(\"La probabilidad de que el cliente 1 use la Tarjeta de Credito es de:\",(V/Samples)*100,\"%\")\n",
        "\n",
        "#Información del nodo\n",
        "#Segundo cliente\n",
        "#College 1; FoodSpend 6,017.6; Income 53,986; TravelSpend 2002.5\n",
        "\n",
        "Samples = 136\n",
        "NV= 107\n",
        "V= 29\n",
        "print(\"La probabilidad de que el cliente 2 no use la Tarjeta de Credito es de:\",(NV/Samples)*100, \"%\")\n",
        "print(\"La probabilidad de que el cliente 2 use la Tarjeta de Credito es de:\",(V/Samples)*100, \"%\")\n"
      ],
      "metadata": {
        "colab": {
          "base_uri": "https://localhost:8080/"
        },
        "id": "fn041vliqczC",
        "outputId": "5cad41b2-1769-44c9-ab4d-4b54f13e6ed8"
      },
      "execution_count": null,
      "outputs": [
        {
          "output_type": "stream",
          "name": "stdout",
          "text": [
            "La probabilidad de que el cliente 1 no use la Tarjeta de Credito es de: 100.0 %\n",
            "La probabilidad de que el cliente 1 use la Tarjeta de Credito es de: 0.0 %\n",
            "La probabilidad de que el cliente 2 no use la Tarjeta de Credito es de: 78.67647058823529 %\n",
            "La probabilidad de que el cliente 2 use la Tarjeta de Credito es de: 21.323529411764707 %\n"
          ]
        }
      ]
    },
    {
      "cell_type": "markdown",
      "source": [
        "**Primer cliente:**\n",
        "\n",
        "La probabilidad de que el cliente 1 no use la Tarjeta de Credito es de: 100.0 %\n",
        "La probabilidad de que el cliente 1 use la Tarjeta de Credito es de: 0.0 %\n",
        "\n",
        "**Segundo cliente:**\n",
        "\n",
        "La probabilidad de que el cliente 2 no use la Tarjeta de Credito es de: 78.67647058823529 %\n",
        "La probabilidad de que el cliente 2 use la Tarjeta de Credito es de: 21.323529411764707 %"
      ],
      "metadata": {
        "id": "2lDhtJtaFJjH"
      }
    },
    {
      "cell_type": "markdown",
      "source": [
        "# ***Reglas de Clientes y Nodos Puros***\n",
        "\n",
        "**Para el cliente 1:**\n",
        "\n",
        "TravelSpend > 1567.875 AND Income > 59098.0.\n",
        "\n",
        "\n",
        "**Para el cliente 2:**\n",
        "\n",
        "Income <= 59098.0 AND FoodSpend > 2711.875 AND TravelSpend <= 3008.25.\n",
        "\n",
        "**Nodos Puros**\n",
        "\n",
        "**1**. Nodo [1,0] = TravelSpend <=1188.0 AND FoodSpend > 4972.55.\n",
        "\n",
        "**2**. Nodo [0,47] = TravelSpend <=1188.0 AND FoodSpend > 4990.73.\n",
        "\n",
        "**3**. Nodo [108,0] = TravelSpend > 1567.875 AND Income > 59098.0\n"
      ],
      "metadata": {
        "id": "TdSk5C9NtrnO"
      }
    },
    {
      "cell_type": "markdown",
      "source": [
        "# **ANALISIS DE RESULTADOS**\n",
        "\n",
        "El modelo de árbol de decisión, aplicado a 500 registros, alcanzó una exactitud del 89.8%, con una sensibilidad del 73.25% y una especificidad del 97.38%. Esto indica que el modelo es eficaz en predecir correctamente el uso o no de tarjetas de crédito, con un rendimiento particularmente alto en la identificación de aquellos que no las utilizan.\n",
        "\n",
        "El modelo generó reglas claras que permiten interpretar las decisiones tomadas por el árbol de decisión. Para el primer cliente , con un gasto en viajes superior a 1,567.88 y un ingreso anual superior a 59,098.0, tiene un 100% de probabilidad de no utilizar la tarjeta de crédito. Esto sugiere que, a pesar de tener ingresos relativamente altos y gastar en viajes, este cliente prefiere no recurrir a crédito.\n",
        "\n",
        "Por otro lardo, para el segundo cliente, , con un ingreso anual inferior a 59,098.0, un gasto en alimentos superior a 2,711.88 y un gasto en viajes inferior a 3,008.25, tiene una probabilidad del 21.32% de utilizar la tarjeta de crédito. Esto sugiere que, aunque con ingresos más bajos, este cliente aún podría recurrir al uso de la tarjeta de crédito, aunque con menor probabilidad que el promedio.\n",
        "\n",
        "Vale destacar que los nodos puros identificaron que clientes con gastos bajos en viajes y altos en alimentos tienden a no usar tarjetas de crédito.\n",
        "\n",
        "En conclusión, El modelo es confiable y proporciona reglas claras para segmentar clientes según su uso de tarjetas de crédito."
      ],
      "metadata": {
        "id": "b9WkGJjP7fQw"
      }
    }
  ]
}