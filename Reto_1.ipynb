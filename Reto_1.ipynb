{
  "nbformat": 4,
  "nbformat_minor": 0,
  "metadata": {
    "colab": {
      "provenance": [],
      "collapsed_sections": [
        "2MY3oTEUJJnf",
        "h7RNeT7JwHBN",
        "bRzuml4Vxw0r"
      ],
      "include_colab_link": true
    },
    "kernelspec": {
      "name": "python3",
      "display_name": "Python 3"
    },
    "language_info": {
      "name": "python"
    }
  },
  "cells": [
    {
      "cell_type": "markdown",
      "metadata": {
        "id": "view-in-github",
        "colab_type": "text"
      },
      "source": [
        "<a href=\"https://colab.research.google.com/github/miguelrendon107/Analitica/blob/main/Reto_1.ipynb\" target=\"_parent\"><img src=\"https://colab.research.google.com/assets/colab-badge.svg\" alt=\"Open In Colab\"/></a>"
      ]
    },
    {
      "cell_type": "markdown",
      "source": [
        "**RETO 1**"
      ],
      "metadata": {
        "id": "Eeqa1qQt9czH"
      }
    },
    {
      "cell_type": "markdown",
      "source": [
        "**Cargar las Librerias y base de datos**"
      ],
      "metadata": {
        "id": "lUdtSrGwxuIu"
      }
    },
    {
      "cell_type": "code",
      "execution_count": null,
      "metadata": {
        "id": "jOGfAGhqxc8g"
      },
      "outputs": [],
      "source": [
        "import numpy as np\n",
        "import pandas as pd\n",
        "from sklearn.naive_bayes import GaussianNB\n",
        "from sklearn.metrics import confusion_matrix\n",
        "from sklearn.metrics import accuracy_score\n",
        "\n",
        "base= \"/content/1. BD1_Longitudinal Survey.xlsx\"\n",
        "bd= pd.read_excel(base, sheet_name= 0)\n",
        "bd= bd.dropna()\n",
        "\n",
        "bd = bd[['Age', 'Father_Edu', 'Mother_Edu', 'Height', 'Weight', 'Income', 'Self_Esteem', 'FamilySize', 'Urban']]\n",
        "\n",
        "\n",
        "bdx = np.array(bd[['Age', 'Father_Edu', 'Mother_Edu', 'Height', 'Weight', 'Income', 'Self_Esteem', 'FamilySize']])\n",
        "bdy = np.array(bd['Urban'])\n",
        "\n",
        "\n"
      ]
    },
    {
      "cell_type": "markdown",
      "source": [
        "### **ANALISIS BASE DE DATOS**\n",
        "\n",
        "\n",
        "\n",
        "\n"
      ],
      "metadata": {
        "id": "2MY3oTEUJJnf"
      }
    },
    {
      "cell_type": "markdown",
      "source": [
        "***1. Cual es el numero total de datos de la base de datos?***"
      ],
      "metadata": {
        "id": "cQ6sq7IwENBy"
      }
    },
    {
      "cell_type": "code",
      "source": [
        "t= len(bd) #Tamaño de la base de datos\n",
        "print(\"Tamaño de la base de datos:\", t)"
      ],
      "metadata": {
        "collapsed": true,
        "id": "_YHAFB3Stqzt",
        "colab": {
          "base_uri": "https://localhost:8080/"
        },
        "outputId": "4b10695a-f0d5-4dd5-d545-76221f0e9cbc"
      },
      "execution_count": null,
      "outputs": [
        {
          "output_type": "stream",
          "name": "stdout",
          "text": [
            "Tamaño de la base de datos: 5683\n"
          ]
        }
      ]
    },
    {
      "cell_type": "markdown",
      "source": [
        "El tamaño de la base de datos es de 5683."
      ],
      "metadata": {
        "id": "eMhEyKTtx6Ns"
      }
    },
    {
      "cell_type": "markdown",
      "source": [
        "***2. Cual es el porcentaje de los datos que hacen parte de cada una de las categorias de la selección?***\n",
        "\n"
      ],
      "metadata": {
        "id": "P7LrXQjPJr-s"
      }
    },
    {
      "cell_type": "code",
      "source": [
        "#Personas que viven en la ciudad.\n",
        "filas=np.where(bdy==1)[0]\n",
        "len(filas)\n",
        "print(\"Porcentaje de las personas que viven en la ciudad:\", len(filas)/len(bd)*100,\"%\")\n",
        "\n",
        "#Personas que viven en areas rurales.\n",
        "filas=np.where(bdy==0)[0]\n",
        "len(filas)\n",
        "print(\"Porcentaje de las personas que viven en las areas rurales:\", len(filas)/len(bd)*100,\"%\")"
      ],
      "metadata": {
        "collapsed": true,
        "id": "m0ZA17TaoXP_",
        "outputId": "451ea074-075e-4db8-f10a-035b67cb1176",
        "colab": {
          "base_uri": "https://localhost:8080/"
        }
      },
      "execution_count": null,
      "outputs": [
        {
          "output_type": "stream",
          "name": "stdout",
          "text": [
            "Porcentaje de las personas que viven en la ciudad: 79.35949322540911 %\n",
            "Porcentaje de las personas que viven en las areas rurales: 20.640506774590886 %\n"
          ]
        }
      ]
    },
    {
      "cell_type": "markdown",
      "source": [
        "- Porcentaje de las personas que viven en la ciudad: 79.35949322540911 %\n",
        "\n",
        "- Porcentaje de las personas que viven en las areas rurales: 20.640506774590886 %"
      ],
      "metadata": {
        "id": "TPekIMCTxzUe"
      }
    },
    {
      "cell_type": "markdown",
      "source": [
        "# **MODELO**"
      ],
      "metadata": {
        "id": "h7RNeT7JwHBN"
      }
    },
    {
      "cell_type": "code",
      "source": [
        "#Modelo de Naive Bayes\n",
        "mnb= GaussianNB()\n",
        "#Entrenamiento del modelo\n",
        "mnb.fit(bdx, bdy)\n",
        "#Predicción de los datos de entrenamiento\n",
        "ydp= mnb.predict(bdx)\n",
        "\n",
        "#Digame las medias de las variables para cada categoria -\n",
        "u=mnb.theta_ #se estiman las medias\n",
        "sigma=np.sqrt(mnb.var_) #se estiman las varianzas\n",
        "print(\"Las Medias son:\", u)\n",
        "print(\"Las Varianzas son:\", sigma)"
      ],
      "metadata": {
        "colab": {
          "base_uri": "https://localhost:8080/"
        },
        "id": "Sq1sS86nwGEx",
        "outputId": "14f5f7c3-6f32-4874-eef7-92d2a1fb7957"
      },
      "execution_count": null,
      "outputs": [
        {
          "output_type": "stream",
          "name": "stdout",
          "text": [
            "Las Medias son: [[1.83810742e+01 1.03324808e+01 1.07612958e+01 6.72148338e+01\n",
            "  1.48857630e+02 3.03672506e+04 2.20272805e+01 4.74168798e+00]\n",
            " [1.83569845e+01 1.12565410e+01 1.11769401e+01 6.69031042e+01\n",
            "  1.44760976e+02 3.34278929e+04 2.26004435e+01 4.68780488e+00]]\n",
            "Las Varianzas son: [[2.48138660e+00 3.86936748e+00 3.17237004e+00 4.07785391e+00\n",
            "  3.01106662e+01 3.17019089e+04 4.19281202e+00 2.57546964e+00]\n",
            " [2.47587326e+00 4.10556364e+00 3.38680150e+00 4.21331089e+00\n",
            "  3.00913213e+01 3.61232282e+04 4.18499090e+00 2.43784107e+00]]\n"
          ]
        }
      ]
    },
    {
      "cell_type": "code",
      "source": [
        "#Las variaciones de las variables\n",
        "#'Age', 'Father_Edu', 'Mother_Edu', 'Height', 'Weight', 'Income', 'Self_Esteem', 'FamilySize'\n",
        "#Los resultados de la primera matriz son para 0 (areas rurales) y la segunda matriz es para los 1 (areas urbanas)\n",
        "LI= u-sigma #Limite inferior\n",
        "LS= u+sigma #Limite superior\n",
        "print(\"Los limites inferiores son:\", LI)\n",
        "print(\"Los limites superiores son:\", LS)"
      ],
      "metadata": {
        "colab": {
          "base_uri": "https://localhost:8080/"
        },
        "id": "M_JhNEfVpbpc",
        "outputId": "d320af43-ac35-469e-f325-d34703abe951"
      },
      "execution_count": null,
      "outputs": [
        {
          "output_type": "stream",
          "name": "stdout",
          "text": [
            "Los limites inferiores son: [[ 1.58996876e+01  6.46311334e+00  7.58892579e+00  6.31369799e+01\n",
            "   1.18746964e+02 -1.33465823e+03  1.78344685e+01  2.16621834e+00]\n",
            " [ 1.58811112e+01  7.15097738e+00  7.79013864e+00  6.26897933e+01\n",
            "   1.14669654e+02 -2.69533531e+03  1.84154526e+01  2.24996381e+00]]\n",
            "Los limites superiores son: [[2.08624608e+01 1.42018483e+01 1.39336659e+01 7.12926877e+01\n",
            "  1.78968296e+02 6.20691595e+04 2.62200925e+01 7.31715762e+00]\n",
            " [2.08328577e+01 1.53621047e+01 1.45637416e+01 7.11164151e+01\n",
            "  1.74852297e+02 6.95511211e+04 2.67854344e+01 7.12564594e+00]]\n"
          ]
        }
      ]
    },
    {
      "cell_type": "markdown",
      "source": [
        "***3. Intervalos variables:***\n",
        "* **Edad** -> rural: [15-20]; urbana [15-20]\n",
        "* **Educación padre** -> rural: [6-14]; urbana [7-15]\n",
        "* **Educacion madre** -> rural: [7-13]; urbana [7-14]\n",
        "* **Altura** -> rural: [63.1-71.2]; urbana: [62.2-71.1]\n",
        "* **Peso** -> rural: [118.7-178.9]; urbana: [114.6-174.8]\n",
        "* **Ingresos** -> rural: [-1,334.6-6,206.9]; urbana: [-2,695.3-6,955.1]\n",
        "* **Autoestima** -> rural: [17.8-26.26.2]; urbana: [18.4-26.7]\n",
        "* **Tamaño Familia** -> rural: [2-7]; urbana: [2-7]"
      ],
      "metadata": {
        "id": "XuGFxSVpqGEo"
      }
    },
    {
      "cell_type": "code",
      "source": [
        "# Calcular la matriz de confusión\n",
        "cm= confusion_matrix(bdy, ydp)\n",
        "print(\"Matriz de confusión:\", cm)"
      ],
      "metadata": {
        "colab": {
          "base_uri": "https://localhost:8080/"
        },
        "id": "9NAXwdLepdli",
        "outputId": "45eb0ee5-9a6f-472c-815a-e8bfbc96846e"
      },
      "execution_count": null,
      "outputs": [
        {
          "output_type": "stream",
          "name": "stdout",
          "text": [
            "Matriz de confusión: [[   2 1171]\n",
            " [   4 4506]]\n"
          ]
        }
      ]
    },
    {
      "cell_type": "code",
      "source": [
        "VN=cm[0,0] #Verdaderos negativos\n",
        "FP=cm[0,1] #Falsos positivos\n",
        "FN=cm[1,0] #Falsos negativos\n",
        "VP=cm[1,1] #Verdaderos positivos\n",
        "\n",
        "\n",
        "print(\"Exactitud:\",  (VP+VN)/(VP+VN+FP+FN)) #Comportamiento general\n",
        "print(\"Tasa Error:\", (FP+FN)/(VP+VN+FP+FN)) #Porcentaje equivocaciones\n",
        "print(\"Sensibilidad:\", VP/(VP+FP)) #Como se comporto frente a los positivos\n",
        "print(\"Especificidad:\", VN/(VN+FN)) #Como se comporto frente a los negativos\n",
        "\n",
        "print(\"Precision:\", VP/(VP+FN)) #Como se comporta frente a los positivos\n",
        "print(\"La probabilidad de negativos:\", VN/(VN+FP)) #Como se comporta frente a los clasificados negativos (areas rurales)"
      ],
      "metadata": {
        "colab": {
          "base_uri": "https://localhost:8080/"
        },
        "id": "B1Llp8mTgTSb",
        "outputId": "5445d8e7-687f-475c-d5af-8b6c7dcf967e",
        "collapsed": true
      },
      "execution_count": null,
      "outputs": [
        {
          "output_type": "stream",
          "name": "stdout",
          "text": [
            "Exactitud: 0.7932430054548654\n",
            "Tasa Error: 0.2067569945451346\n",
            "Sensibilidad: 0.793729082261758\n",
            "Especificidad: 0.3333333333333333\n",
            "Precision: 0.9991130820399113\n",
            "La probabilidad de negativos: 0.0017050298380221654\n"
          ]
        }
      ]
    },
    {
      "cell_type": "markdown",
      "source": [
        "***4. Interpretación metricas:***\n",
        "\n",
        "- **Exactitud:** El modelo clasifica correctamente el **79.32%** de las instancias totales.\n",
        "- **Tasa Error:** El modelo clasifica incorrectamente el 20.68% de las instancias totales.\n",
        "- **Sensibilidad:** De todas las instancias que son realmente positivas (ciudad), el modelo identifica correctamente el 79.37%\n",
        "-  **Especificidad:** De todas las instancias que son realmente negativas (rural), el modelo identifica correctamente el 33.33%\n",
        "- **Precisión:** De todas las instancias que el modelo predice como positivas (ciudad), el 99.91% son realmente positivas.\n",
        "- **Valor predicción negativos:** De todas las instancias que el modelo predice como negativas (rural), el 0.17% son realmente positivas."
      ],
      "metadata": {
        "id": "XD4Lk705wtZd"
      }
    },
    {
      "cell_type": "markdown",
      "source": [
        "***5. Segun las caracteristicas brindadas en el excel:***"
      ],
      "metadata": {
        "id": "_xDf0tEZ_eAf"
      }
    },
    {
      "cell_type": "code",
      "source": [
        "Xun= [[34, 9, 6, 65, 135, 50000, 30, 3]] #Esta es la persona del Excel.\n",
        "ydun=mnb.predict(Xun)\n",
        "\n",
        "#Si el resultado es 1 la persona vive en la ciudad pero si es 0 vive en areas rurales.\n",
        "if ydun[0] == 1:\n",
        "    print(\"La persona vive en la ciudad.\")\n",
        "else:\n",
        "    print(\"La persona vive en áreas rurales.\")"
      ],
      "metadata": {
        "colab": {
          "base_uri": "https://localhost:8080/"
        },
        "collapsed": true,
        "id": "g2gnS9439Thy",
        "outputId": "2ffcd413-cc4b-44f7-ac1a-72ffd9cd93f0"
      },
      "execution_count": null,
      "outputs": [
        {
          "output_type": "stream",
          "name": "stdout",
          "text": [
            "La persona vive en la ciudad.\n"
          ]
        }
      ]
    },
    {
      "cell_type": "markdown",
      "source": [
        "# **ANALISIS DE RESULTADOS:**\n",
        "\n",
        "Despues de analizar los datos y aplicar un modelo Naive Bayes, los resultados sugieren en primer lugar que los intervalos de las variables de edad y tamaño de la familia son similares entre las personas que viven en áreas rurales y urbanas, existen diferencias notables en la educación, ingresos y autoestima. Los padres y madres en áreas urbanas tienden a tener un nivel de educación más alto, y las personas en áreas urbanas muestran una mayor autoestima y un rango de ingresos más amplio.\n",
        "\n",
        "Por otro lado, el modelo clasifica correctamente el 79.32% de las instancias totales. Asi mismo, los resultados indican una alta precisión (99.91%) y sensibilidad (79.37%) al identificar a las personas que viven en la ciudad, lo que significa que el modelo es muy eficaz en este aspecto. Sin embargo, la especificidad (33.33%) y el valor de predicción negativa (0.17%) son bajos, lo que sugiere que el modelo es menos eficaz para identificar correctamente a las personas que viven en áreas rurales.\n",
        "\n",
        "En conclusión , el modelo muestra una muy buena capacidad de clasificación de las personas que viven en areas urbanas, pero tiene una capacidad limitada para clasificar correctamente a los que viven en areas rurales.\n",
        "\n",
        "**NOTA:** Estas diferencias destacan la necesidad de ajustar el modelo para mejorar su capacidad predictiva en áreas rurales y así obtener una representación más precisa de ambas poblaciones.\n"
      ],
      "metadata": {
        "id": "KlNqgtqLyWnp"
      }
    },
    {
      "cell_type": "markdown",
      "source": [
        "# EXTRA"
      ],
      "metadata": {
        "id": "bRzuml4Vxw0r"
      }
    },
    {
      "cell_type": "code",
      "source": [
        "# Ayuda a entender cómo se distribuyen las diferentes categorías dentro de cada variable.\n",
        "p1 = bd['Age'].value_counts(normalize=True) * 100\n",
        "print(\"Porcentaje de datos por categoría:\", p1)\n",
        "p2 = bd['Father_Edu'].value_counts(normalize=True) * 100\n",
        "print(\"Porcentaje de datos por categoría:\", p2)\n",
        "p3 = bd['Mother_Edu'].value_counts(normalize=True) * 100\n",
        "print(\"Porcentaje de datos por categoría:\", p3)\n",
        "p4 = bd['Height'].value_counts(normalize=True) * 100\n",
        "print(\"Porcentaje de datos por categoría:\", p4)\n",
        "p5 = bd['Weight'].value_counts(normalize=True) * 100\n",
        "print(\"Porcentaje de datos por categoría:\", p5)\n",
        "p6 = bd['Income'].value_counts(normalize=True) * 100\n",
        "print(\"Porcentaje de datos por categoría:\", p6)\n",
        "p7= bd['Self_Esteem'].value_counts(normalize=True) * 100\n",
        "print(\"Porcentaje de datos por categoría:\", p7)\n",
        "p8 = bd['FamilySize'].value_counts(normalize=True) * 100\n",
        "print(\"Porcentaje de datos por categoría:\", p8)"
      ],
      "metadata": {
        "colab": {
          "base_uri": "https://localhost:8080/"
        },
        "id": "UsbTUbjX6B6j",
        "outputId": "3f00dee9-b311-4f9d-b748-2d050f2dbad5"
      },
      "execution_count": null,
      "outputs": [
        {
          "output_type": "stream",
          "name": "stdout",
          "text": [
            "Porcentaje de datos por categoría: Age\n",
            "17    14.235439\n",
            "18    13.936301\n",
            "19    13.672356\n",
            "16    13.584374\n",
            "15    11.543199\n",
            "20    11.261658\n",
            "21    11.032905\n",
            "22    10.733767\n",
            "Name: proportion, dtype: float64\n",
            "Porcentaje de datos por categoría: Father_Edu\n",
            "12.0    34.594404\n",
            "16.0     8.534225\n",
            "8.0      7.636812\n",
            "10.0     6.686609\n",
            "14.0     5.507654\n",
            "11.0     5.454865\n",
            "9.0      5.226113\n",
            "6.0      4.451874\n",
            "13.0     2.850607\n",
            "7.0      2.709836\n",
            "18.0     2.164350\n",
            "4.0      1.918001\n",
            "0.0      1.812423\n",
            "3.0      1.794827\n",
            "20.0     1.777230\n",
            "5.0      1.742038\n",
            "15.0     1.689249\n",
            "17.0     1.530882\n",
            "2.0      1.002991\n",
            "19.0     0.527890\n",
            "1.0      0.387119\n",
            "Name: proportion, dtype: float64\n",
            "Porcentaje de datos por categoría: Mother_Edu\n",
            "12.0    42.688721\n",
            "11.0     8.710188\n",
            "10.0     7.865564\n",
            "16.0     6.405068\n",
            "8.0      5.666021\n",
            "14.0     5.190920\n",
            "9.0      4.821397\n",
            "13.0     3.519268\n",
            "6.0      3.360901\n",
            "7.0      1.794827\n",
            "15.0     1.513285\n",
            "5.0      1.513285\n",
            "4.0      1.425304\n",
            "3.0      1.372515\n",
            "17.0     1.073377\n",
            "0.0      1.073377\n",
            "18.0     0.791835\n",
            "2.0      0.721450\n",
            "1.0      0.193560\n",
            "19.0     0.175963\n",
            "20.0     0.123174\n",
            "Name: proportion, dtype: float64\n",
            "Porcentaje de datos por categoría: Height\n",
            "67.0    9.449235\n",
            "64.0    9.326060\n",
            "66.0    9.079711\n",
            "68.0    7.707197\n",
            "65.0    7.408059\n",
            "63.0    7.144114\n",
            "62.0    6.880169\n",
            "72.0    6.651417\n",
            "70.0    6.581031\n",
            "71.0    6.528242\n",
            "69.0    6.229104\n",
            "73.0    4.047158\n",
            "61.0    3.519268\n",
            "74.0    2.780222\n",
            "60.0    2.692240\n",
            "75.0    1.214147\n",
            "59.0    0.950202\n",
            "76.0    0.756643\n",
            "77.0    0.369523\n",
            "58.0    0.228752\n",
            "57.0    0.158367\n",
            "78.0    0.087982\n",
            "56.0    0.052789\n",
            "55.0    0.035193\n",
            "51.0    0.035193\n",
            "79.0    0.035193\n",
            "53.0    0.035193\n",
            "80.0    0.017596\n",
            "Name: proportion, dtype: float64\n",
            "Porcentaje de datos por categoría: Weight\n",
            "140.0    5.560443\n",
            "130.0    5.226113\n",
            "120.0    5.102939\n",
            "150.0    4.874186\n",
            "135.0    4.663030\n",
            "           ...   \n",
            "229.0    0.017596\n",
            "246.0    0.017596\n",
            "226.0    0.017596\n",
            "290.0    0.017596\n",
            "201.0    0.017596\n",
            "Name: proportion, Length: 163, dtype: float64\n",
            "Porcentaje de datos por categoría: Income\n",
            "0.0        13.672356\n",
            "30000.0     2.797818\n",
            "25000.0     2.604258\n",
            "35000.0     2.375506\n",
            "40000.0     2.305121\n",
            "             ...    \n",
            "7.0         0.017596\n",
            "17188.0     0.017596\n",
            "540.0       0.017596\n",
            "50100.0     0.017596\n",
            "43600.0     0.017596\n",
            "Name: proportion, Length: 599, dtype: float64\n",
            "Porcentaje de datos por categoría: Self_Esteem\n",
            "20.0    10.856942\n",
            "19.0     8.393454\n",
            "23.0     8.252683\n",
            "22.0     8.023931\n",
            "21.0     7.636812\n",
            "18.0     7.355270\n",
            "24.0     7.232096\n",
            "25.0     6.669013\n",
            "26.0     6.493049\n",
            "27.0     6.088334\n",
            "30.0     5.208517\n",
            "28.0     4.399085\n",
            "17.0     4.399085\n",
            "29.0     3.589653\n",
            "16.0     2.569066\n",
            "15.0     1.513285\n",
            "14.0     0.580679\n",
            "13.0     0.351927\n",
            "11.0     0.158367\n",
            "12.0     0.123174\n",
            "10.0     0.052789\n",
            "7.0      0.017596\n",
            "8.0      0.017596\n",
            "9.0      0.017596\n",
            "Name: proportion, dtype: float64\n",
            "Porcentaje de datos por categoría: FamilySize\n",
            "5     19.672708\n",
            "4     19.637515\n",
            "3     15.625550\n",
            "6     13.619567\n",
            "2      7.513637\n",
            "7      7.372866\n",
            "1      6.616224\n",
            "8      4.416681\n",
            "9      2.357910\n",
            "10     1.689249\n",
            "11     0.897413\n",
            "15     0.211156\n",
            "12     0.193560\n",
            "13     0.140771\n",
            "14     0.035193\n",
            "Name: proportion, dtype: float64\n"
          ]
        }
      ]
    }
  ]
}